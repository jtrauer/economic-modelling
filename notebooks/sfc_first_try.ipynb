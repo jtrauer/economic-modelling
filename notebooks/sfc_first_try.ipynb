{
 "cells": [
  {
   "cell_type": "code",
   "execution_count": null,
   "id": "0",
   "metadata": {},
   "outputs": [],
   "source": [
    "from summer2 import CompartmentalModel\n",
    "from summer2.parameters import Parameter"
   ]
  },
  {
   "cell_type": "code",
   "execution_count": null,
   "id": "1",
   "metadata": {},
   "outputs": [],
   "source": [
    "model = CompartmentalModel(\n",
    "    [0.0, 20.0],\n",
    "    [\"hh_savings\", \"gov_holdings\", \"corp_holdings\"],\n",
    "    [],\n",
    ")"
   ]
  },
  {
   "cell_type": "code",
   "execution_count": null,
   "id": "2",
   "metadata": {},
   "outputs": [],
   "source": [
    "model.add_transition_flow(\n",
    "    \"wage_savings\",\n",
    "    Parameter(\"wage_rate\") * (1.0 - Parameter(\"tax_prop\")) * (1.0 - Parameter(\"consum_propens\")),\n",
    "    \"corp_holdings\",\n",
    "    \"hh_savings\",\n",
    ")\n",
    "model.add_transition_flow(\n",
    "    \"welfare\",\n",
    "    Parameter(\"welfare_rate\") * (1.0 - Parameter(\"consum_propens\")),\n",
    "    \"gov_holdings\",\n",
    "    \"hh_savings\",\n",
    ")\n",
    "model.add_transition_flow(\n",
    "    \"taxation\",\n",
    "    Parameter(\"wage_rate\") * Parameter(\"tax_prop\"),\n",
    "    \"corp_holdings\",\n",
    "    \"gov_holdings\",\n",
    ")\n",
    "model.add_transition_flow(\n",
    "    \"consumption\",\n",
    "    Parameter(\"wage_rate\") * (1.0 - Parameter(\"tax_prop\")) * Parameter(\"consum_propens\"),\n",
    "    \"hh_savings\",\n",
    "    \"corp_holdings\",\n",
    ")\n",
    "init_conds = {\n",
    "    \"hh_savings\": 10.0,\n",
    "    \"gov_holdings\": 10.0,\n",
    "    \"corp_holdings\": 10.0,\n",
    "}   \n",
    "model.set_initial_population(init_conds)"
   ]
  },
  {
   "cell_type": "code",
   "execution_count": null,
   "id": "3",
   "metadata": {},
   "outputs": [],
   "source": [
    "params = {\n",
    "    \"wage_rate\": 0.4,\n",
    "    \"tax_prop\": 0.2,\n",
    "    \"consum_propens\": 0.5,\n",
    "    \"welfare_rate\": 0.3,\n",
    "}\n",
    "model.run(params)"
   ]
  },
  {
   "cell_type": "code",
   "execution_count": null,
   "id": "4",
   "metadata": {},
   "outputs": [],
   "source": [
    "model.get_outputs_df().plot()"
   ]
  }
 ],
 "metadata": {
  "kernelspec": {
   "display_name": "Python 3 (ipykernel)",
   "language": "python",
   "name": "python3"
  },
  "language_info": {
   "codemirror_mode": {
    "name": "ipython",
    "version": 3
   },
   "file_extension": ".py",
   "mimetype": "text/x-python",
   "name": "python",
   "nbconvert_exporter": "python",
   "pygments_lexer": "ipython3",
   "version": "3.10.13"
  }
 },
 "nbformat": 4,
 "nbformat_minor": 5
}
